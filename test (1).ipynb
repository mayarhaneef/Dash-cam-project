{
 "cells": [
  {
   "cell_type": "code",
   "execution_count": 55,
   "id": "5662cf77",
   "metadata": {},
   "outputs": [],
   "source": [
    "import numpy as np\n",
    "import pandas as pd\n",
    "\n",
    "import matplotlib.pyplot as plt\n",
    "import seaborn as sns\n",
    "import plotly.express as px\n",
    "\n",
    "from pathlib import Path\n",
    "from sklearn.model_selection import train_test_split\n",
    "\n",
    "import tensorflow as tf\n",
    "\n",
    "from sklearn.metrics import confusion_matrix, classification_report"
   ]
  },
  {
   "cell_type": "code",
   "execution_count": 56,
   "id": "1075e761",
   "metadata": {},
   "outputs": [
    {
     "name": "stdout",
     "output_type": "stream",
     "text": [
      "       class                            image_path               name  xmax  \\\n",
      "0          3  4a48c42c9579ec0399e6c5a3e825e765.jpg            GARBAGE   797   \n",
      "1          3  4a48c42c9579ec0399e6c5a3e825e765.jpg            GARBAGE   932   \n",
      "2          3  4a48c42c9579ec0399e6c5a3e825e765.jpg            GARBAGE   736   \n",
      "3          7  ea906a663da6321bcef78be4b7d1afff.jpg      BAD_BILLBOARD   986   \n",
      "4          8  1c7d48005a12d1b19261b8e71df7cafe.jpg       SAND_ON_ROAD   667   \n",
      "...      ...                                   ...                ...   ...   \n",
      "19945      4  081e7bb3832ec5bb25276db161a96274.jpg  CONSTRUCTION_ROAD  1025   \n",
      "19946      2  1ff38a7af7f13b1201d17c6e1829373a.jpg           POTHOLES   657   \n",
      "19947      2  1ff38a7af7f13b1201d17c6e1829373a.jpg           POTHOLES   507   \n",
      "19948      7  ac97490f13140fc1bfe613ec69301b34.jpg      BAD_BILLBOARD   956   \n",
      "19949      7  ac97490f13140fc1bfe613ec69301b34.jpg      BAD_BILLBOARD   814   \n",
      "\n",
      "       xmin  ymax  ymin  sand classes  \n",
      "0       701   262   211             0  \n",
      "1       786   329   238             0  \n",
      "2       657   275   229             0  \n",
      "3       786   136     0             0  \n",
      "4       549   228   179             1  \n",
      "...     ...   ...   ...           ...  \n",
      "19945   600   408   148             0  \n",
      "19946   418   364   282             0  \n",
      "19947   338   436   283             0  \n",
      "19948   713   110    25             0  \n",
      "19949   674   148    71             0  \n",
      "\n",
      "[19950 rows x 8 columns]\n"
     ]
    }
   ],
   "source": [
    "import pandas as pd\n",
    "\n",
    "df = pd.read_excel(r'C:\\Users\\mayar\\Downloads\\train.xlsx')\n",
    "df.head()\n",
    "print(df)"
   ]
  },
  {
   "cell_type": "code",
   "execution_count": 59,
   "id": "adef02f8",
   "metadata": {},
   "outputs": [
    {
     "name": "stdout",
     "output_type": "stream",
     "text": [
      "(19950, 8)\n"
     ]
    }
   ],
   "source": [
    "print(df.shape)"
   ]
  },
  {
   "cell_type": "code",
   "execution_count": 60,
   "id": "4adc71fe",
   "metadata": {},
   "outputs": [
    {
     "name": "stdout",
     "output_type": "stream",
     "text": [
      "Index(['class', 'image_path', 'name', 'xmax', 'xmin', 'ymax', 'ymin',\n",
      "       'sand classes'],\n",
      "      dtype='object')\n"
     ]
    }
   ],
   "source": [
    "print(df.columns)"
   ]
  },
  {
   "cell_type": "code",
   "execution_count": 61,
   "id": "f1e6f0c6",
   "metadata": {},
   "outputs": [
    {
     "name": "stdout",
     "output_type": "stream",
     "text": [
      "<class 'pandas.core.frame.DataFrame'>\n",
      "RangeIndex: 19950 entries, 0 to 19949\n",
      "Data columns (total 8 columns):\n",
      " #   Column        Non-Null Count  Dtype \n",
      "---  ------        --------------  ----- \n",
      " 0   class         19950 non-null  int64 \n",
      " 1   image_path    19950 non-null  object\n",
      " 2   name          19950 non-null  object\n",
      " 3   xmax          19950 non-null  int64 \n",
      " 4   xmin          19950 non-null  int64 \n",
      " 5   ymax          19950 non-null  int64 \n",
      " 6   ymin          19950 non-null  int64 \n",
      " 7   sand classes  19950 non-null  int64 \n",
      "dtypes: int64(6), object(2)\n",
      "memory usage: 1.2+ MB\n",
      "None\n"
     ]
    }
   ],
   "source": [
    "print(df.info())"
   ]
  },
  {
   "cell_type": "code",
   "execution_count": 62,
   "id": "28496fb8",
   "metadata": {},
   "outputs": [
    {
     "data": {
      "text/html": [
       "<div>\n",
       "<style scoped>\n",
       "    .dataframe tbody tr th:only-of-type {\n",
       "        vertical-align: middle;\n",
       "    }\n",
       "\n",
       "    .dataframe tbody tr th {\n",
       "        vertical-align: top;\n",
       "    }\n",
       "\n",
       "    .dataframe thead th {\n",
       "        text-align: right;\n",
       "    }\n",
       "</style>\n",
       "<table border=\"1\" class=\"dataframe\">\n",
       "  <thead>\n",
       "    <tr style=\"text-align: right;\">\n",
       "      <th></th>\n",
       "      <th>class</th>\n",
       "      <th>xmax</th>\n",
       "      <th>xmin</th>\n",
       "      <th>ymax</th>\n",
       "      <th>ymin</th>\n",
       "      <th>sand classes</th>\n",
       "    </tr>\n",
       "  </thead>\n",
       "  <tbody>\n",
       "    <tr>\n",
       "      <th>count</th>\n",
       "      <td>19950.000000</td>\n",
       "      <td>19950.000000</td>\n",
       "      <td>19950.000000</td>\n",
       "      <td>19950.000000</td>\n",
       "      <td>19950.000000</td>\n",
       "      <td>19950.000000</td>\n",
       "    </tr>\n",
       "    <tr>\n",
       "      <th>mean</th>\n",
       "      <td>4.055388</td>\n",
       "      <td>572.813634</td>\n",
       "      <td>362.418647</td>\n",
       "      <td>314.202506</td>\n",
       "      <td>201.514937</td>\n",
       "      <td>0.037494</td>\n",
       "    </tr>\n",
       "    <tr>\n",
       "      <th>std</th>\n",
       "      <td>2.502491</td>\n",
       "      <td>264.445257</td>\n",
       "      <td>264.246281</td>\n",
       "      <td>102.133871</td>\n",
       "      <td>85.536614</td>\n",
       "      <td>0.189973</td>\n",
       "    </tr>\n",
       "    <tr>\n",
       "      <th>min</th>\n",
       "      <td>0.000000</td>\n",
       "      <td>30.000000</td>\n",
       "      <td>-397.000000</td>\n",
       "      <td>20.000000</td>\n",
       "      <td>-150.000000</td>\n",
       "      <td>0.000000</td>\n",
       "    </tr>\n",
       "    <tr>\n",
       "      <th>25%</th>\n",
       "      <td>3.000000</td>\n",
       "      <td>357.000000</td>\n",
       "      <td>147.000000</td>\n",
       "      <td>242.000000</td>\n",
       "      <td>149.000000</td>\n",
       "      <td>0.000000</td>\n",
       "    </tr>\n",
       "    <tr>\n",
       "      <th>50%</th>\n",
       "      <td>3.000000</td>\n",
       "      <td>567.000000</td>\n",
       "      <td>350.000000</td>\n",
       "      <td>296.000000</td>\n",
       "      <td>195.000000</td>\n",
       "      <td>0.000000</td>\n",
       "    </tr>\n",
       "    <tr>\n",
       "      <th>75%</th>\n",
       "      <td>4.000000</td>\n",
       "      <td>789.000000</td>\n",
       "      <td>581.000000</td>\n",
       "      <td>372.000000</td>\n",
       "      <td>251.000000</td>\n",
       "      <td>0.000000</td>\n",
       "    </tr>\n",
       "    <tr>\n",
       "      <th>max</th>\n",
       "      <td>10.000000</td>\n",
       "      <td>1384.000000</td>\n",
       "      <td>935.000000</td>\n",
       "      <td>698.000000</td>\n",
       "      <td>500.000000</td>\n",
       "      <td>1.000000</td>\n",
       "    </tr>\n",
       "  </tbody>\n",
       "</table>\n",
       "</div>"
      ],
      "text/plain": [
       "              class          xmax          xmin          ymax          ymin  \\\n",
       "count  19950.000000  19950.000000  19950.000000  19950.000000  19950.000000   \n",
       "mean       4.055388    572.813634    362.418647    314.202506    201.514937   \n",
       "std        2.502491    264.445257    264.246281    102.133871     85.536614   \n",
       "min        0.000000     30.000000   -397.000000     20.000000   -150.000000   \n",
       "25%        3.000000    357.000000    147.000000    242.000000    149.000000   \n",
       "50%        3.000000    567.000000    350.000000    296.000000    195.000000   \n",
       "75%        4.000000    789.000000    581.000000    372.000000    251.000000   \n",
       "max       10.000000   1384.000000    935.000000    698.000000    500.000000   \n",
       "\n",
       "       sand classes  \n",
       "count  19950.000000  \n",
       "mean       0.037494  \n",
       "std        0.189973  \n",
       "min        0.000000  \n",
       "25%        0.000000  \n",
       "50%        0.000000  \n",
       "75%        0.000000  \n",
       "max        1.000000  "
      ]
     },
     "execution_count": 62,
     "metadata": {},
     "output_type": "execute_result"
    }
   ],
   "source": [
    "df.describe()"
   ]
  },
  {
   "cell_type": "code",
   "execution_count": 63,
   "id": "99b777c4",
   "metadata": {},
   "outputs": [],
   "source": [
    "df = df.dropna(axis=0)"
   ]
  },
  {
   "cell_type": "code",
   "execution_count": 64,
   "id": "9dde98ba",
   "metadata": {},
   "outputs": [
    {
     "name": "stdout",
     "output_type": "stream",
     "text": [
      "Requirement already satisfied: openpyxl in c:\\users\\mayar\\anaconda3\\lib\\site-packages (3.0.10)\n",
      "Requirement already satisfied: et_xmlfile in c:\\users\\mayar\\anaconda3\\lib\\site-packages (from openpyxl) (1.1.0)\n",
      "Note: you may need to restart the kernel to use updated packages.\n"
     ]
    }
   ],
   "source": [
    "pip install openpyxl"
   ]
  },
  {
   "cell_type": "code",
   "execution_count": 65,
   "id": "9717bad8",
   "metadata": {},
   "outputs": [
    {
     "name": "stdout",
     "output_type": "stream",
     "text": [
      "       train\n",
      "0        NaN\n",
      "1        NaN\n",
      "2        NaN\n",
      "3        NaN\n",
      "4        NaN\n",
      "...      ...\n",
      "19945    NaN\n",
      "19946    NaN\n",
      "19947    NaN\n",
      "19948    NaN\n",
      "19949    NaN\n",
      "\n",
      "[19950 rows x 1 columns]\n"
     ]
    }
   ],
   "source": [
    "import pandas as pd\n",
    "\n",
    "data = pd.read_excel(r'C:\\Users\\mayar\\Downloads\\train.xlsx') \n",
    "df = pd.DataFrame(data, columns=['train'])\n",
    "print(df)"
   ]
  },
  {
   "cell_type": "code",
   "execution_count": 67,
   "id": "bedf830e",
   "metadata": {},
   "outputs": [],
   "source": [
    "df = ['SAND_ON_ROAD']"
   ]
  },
  {
   "cell_type": "code",
   "execution_count": 72,
   "id": "6d346ac8",
   "metadata": {},
   "outputs": [],
   "source": [
    "def generate_df(image_dir, label):\n",
    "    filepaths = pd.Series(list(image_dir.glob(r'*.jpg')), name='Filepath').astype(str)\n",
    "    labels = pd.Series(label, name='Label', index=filepaths.index)\n",
    "    df = pd.concat([filepaths, labels], axis=1)\n",
    "    return df"
   ]
  },
  {
   "cell_type": "code",
   "execution_count": 84,
   "id": "f1dc222a",
   "metadata": {},
   "outputs": [],
   "source": [
    "train_gen = tf.keras.preprocessing.image.ImageDataGenerator(\n",
    "    rescale=1./255,\n",
    "    validation_split=0.2\n",
    ")\n",
    "\n",
    "test_gen = tf.keras.preprocessing.image.ImageDataGenerator(\n",
    "    rescale=1./255\n",
    ")"
   ]
  },
  {
   "cell_type": "code",
   "execution_count": 87,
   "id": "f2bb8cad",
   "metadata": {},
   "outputs": [],
   "source": [
    "#false\n",
    "\n",
    "def evaluate_model(model, test_data):\n",
    "    \n",
    "    results = model.evaluate(test_data, verbose=0)\n",
    "    loss = results[0]\n",
    "    acc = results[1]\n",
    "    \n",
    "    print(\"    Test Loss: {:.5f}\".format(loss))\n",
    "    print(\"Test Accuracy: {:.2f}%\".format(acc * 100))\n",
    "    \n",
    "    y_pred = np.squeeze((model.predict(test_data) >= 0.5).astype(np.int))\n",
    "    cm = confusion_matrix(test_data.labels, y_pred)\n",
    "    clr = classification_report(test_data.labels, y_pred, target_names=[\"NEGATIVE\", \"POSITIVE\"])\n",
    "    \n",
    "    plt.figure(figsize=(6, 6))\n",
    "    sns.heatmap(cm, annot=True, fmt='g', vmin=0, cmap='Blues', cbar=False)\n",
    "    plt.xticks(ticks=np.arange(2) + 0.5, labels=[\"NEGATIVE\", \"POSITIVE\"])\n",
    "    plt.yticks(ticks=np.arange(2) + 0.5, labels=[\"NEGATIVE\", \"POSITIVE\"])\n",
    "    plt.xlabel(\"Predicted\")\n",
    "    plt.ylabel(\"Actual\")\n",
    "    plt.title(\"Confusion Matrix\")\n",
    "    plt.show()\n",
    "    \n",
    "    print(\"Classification Report:\\n----------------------\\n\", clr)"
   ]
  },
  {
   "cell_type": "code",
   "execution_count": null,
   "id": "09cb276b",
   "metadata": {},
   "outputs": [],
   "source": []
  },
  {
   "cell_type": "code",
   "execution_count": null,
   "id": "0fe15534",
   "metadata": {},
   "outputs": [],
   "source": []
  }
 ],
 "metadata": {
  "kernelspec": {
   "display_name": "Python 3 (ipykernel)",
   "language": "python",
   "name": "python3"
  },
  "language_info": {
   "codemirror_mode": {
    "name": "ipython",
    "version": 3
   },
   "file_extension": ".py",
   "mimetype": "text/x-python",
   "name": "python",
   "nbconvert_exporter": "python",
   "pygments_lexer": "ipython3",
   "version": "3.9.13"
  }
 },
 "nbformat": 4,
 "nbformat_minor": 5
}
